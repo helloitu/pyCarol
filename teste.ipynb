{
 "cells": [
  {
   "cell_type": "code",
   "execution_count": 1,
   "metadata": {
    "collapsed": false
   },
   "outputs": [
    {
     "name": "stdout",
     "output_type": "stream",
     "text": [
      "aa80f9d0cbc311e7911b0242ac110003\n"
     ]
    }
   ],
   "source": [
    "import pandas as pd\n",
    "import json\n",
    "from pycarol import loginCarol, entityTemplateCarol\n",
    "\n",
    "\n",
    "with open('E:\\\\carol-ds-retail\\\\config.json') as json_data:\n",
    "    d = json.loads(json_data.read())\n",
    "token_object = loginCarol.loginCarol(**d['mario'])\n",
    "token_object.newToken()\n",
    "print(token_object.access_token)"
   ]
  },
  {
   "cell_type": "code",
   "execution_count": null,
   "metadata": {
    "collapsed": false
   },
   "outputs": [],
   "source": []
  },
  {
   "cell_type": "code",
   "execution_count": 2,
   "metadata": {
    "collapsed": false
   },
   "outputs": [],
   "source": [
    "json_query = \"\"\"{\"tenantId\":\"e7dbd874-ea9d-4092-afa4-d2f68acaaaf4\",\"id\":1,\"createdAt\":\"2015-11-16T17:34:37-02:00\",\"updatedAt\":\"2017-09-14T14:45:33-03:00\",\"deliveredAt\":null,\"deliveryEstimatedDate\":null,\"status\":\"shipped\",\"cancellationReason\":\"notCanceled\",\"statusMsgStore\":\"Pedido enviado\",\"statusMsgCustomer\":\"Pedido enviado\",\"subtotal\":410.1,\"discountsAndFees\":[],\"interestFee\":0,\"payInFullDiscount\":0,\"interestRate\":0,\"quantityOfInstallments\":1,\"appliedPromotions\":[],\"shippingMethod\":{\"gatewayId\":1,\"id\":6723,\"name\":\"Frete Padrão\",\"deliveryDeadLine\":\"5 dias\",\"cost\":1,\"adjustedCost\":1,\"fees\":0,\"quotationCode\":null,\"minDeliveryDeadline\":null,\"maxDeliveryDeadline\":null},\"total\":411.1,\"totalOriginal\":411.1,\"fullfillmentType\":\"shipment\",\"storePickup\":null,\"shippingAddress\":{\"id\":1,\"recipientName\":\"José da Silva\",\"local\":\"José da Silva\",\"phoneAreaCode\":\"41\",\"phoneNumber\":\"3333-3333\",\"phoneAreaCodeAlternative\":null,\"phoneNumberAlternative\":null,\"selected\":false,\"main\":false,\"city\":\"Curitiba\",\"streetComplement\":\"\",\"country\":\"BRA\",\"district\":\"Jardim Social\",\"street\":\"Praça Villa-Lobos\",\"streetNumber\":\"100\",\"state\":\"PR\",\"zipCode\":\"82520010\",\"ibgeCode\":null,\"reference\":null,\"blockedAddressEditing\":true},\"isGuestPurchase\":false,\"customerId\":2,\"billing\":{\"id\":1,\"name\":\"José da Silva\",\"email\":\"dev@ciashop.com.br\",\"customerType\":\"person\",\"documentType\":\"cpf\",\"documentId\":\"41185147373\",\"street\":\"Praça Villa-Lobos\",\"streetNumber\":\"100\",\"streetComplement\":\"\",\"district\":\"Jardim Social\",\"city\":\"Curitiba\",\"ibgeCode\":null,\"state\":\"PR\",\"country\":\"BRA\",\"zipCode\":\"82520010\",\"reference\":null,\"phoneAreaCode\":\"41\",\"phoneNumber\":\"3333-3333\",\"phoneAreaCodeAlternative\":\"\",\"phoneNumberAlternative\":\"\",\"gender\":\"undefined\",\"dateOfBirth\":null,\"regionalDocumentType\":\"rg\",\"regionalDocumentId\":\"\",\"regionalDocumentState\":null},\"ip\":\"191.32.12.163\",\"referrerUrl\":\"direto\",\"storeURL\":null,\"source\":\"store\",\"customer\":{\"url\":\"https://sprint379.myciashop.local/api/v1/customers/2\",\"resource\":\"/customers/2\"},\"orderItems\":{\"id\":1,\"createdAt\":\"2015-11-16T17:34:37-02:00\",\"updatedAt\":\"2015-11-16T17:34:37-02:00\",\"productId\":1,\"productErpId\":\"PTM_201511161612\",\"variantId\":4,\"variantErpId\":\"PTM_201511161612-Azul-P\",\"appliedPromotions\":[],\"price\":432.1,\"adjustedPrice\":410.1,\"quantity\":1,\"availability\":\"Produto disponível\",\"bonusEarned\":0,\"package\":{\"id\":null,\"description\":null,\"value\":0},\"card\":{\"message\":null},\"type\":\"normal\",\"variant\":{\"url\":\"https://sprint379.myciashop.local/api/v1/products/1/variants/4\",\"resource\":\"/products/1/variants/4\"},\"product\":{\"url\":\"https://sprint379.myciashop.local/api/v1/products/1\",\"resource\":\"/products/1\"},\"kitItems\":null,\"modules\":[],\"hasSubscription\":false,\"selectedSubscriptionFrequency\":null,\"discountsAndFees\":[],\"preSale\":null,\"warehouses\":[{\"id\":1,\"erpId\":\"Armazém 1\",\"name\":\"Armazém 1\",\"quantity\":1,\"branch\":{\"id\":1,\"erpId\":\"Filial 1\",\"name\":\"Filial 1\",\"documentId\":\"\"}}],\"shortDescription\":\"\"},\"shipments\":{\"url\":\"https://sprint379.myciashop.local/api/v1/orders/1/shipments\",\"resource\":\"/orders/1/shipments\"},\"multiShipments\":null,\"transactionType\":\"Payment\",\"subscriptonToken\":null,\"cartId\":5,\"checkStockId\":null,\"paymentTransactions\":{\"url\":\"https://sprint379.myciashop.local/api/v1/orders/1/paymentTransactions\",\"resource\":\"/orders/1/paymentTransactions\"},\"pricingTable\":{\"id\":1,\"name\":\"Varejo\",\"erpId\":null},\"sourceChannel\":\"Loja\",\"invoices\":{\"url\":\"https://sprint379.myciashop.local/api/v1/orders/1/invoices\",\"resource\":\"/orders/1/invoices\"},\"templateId\":1,\"wishlist\":null,\"marketplace\":{\"name\":null,\"store\":null,\"orderId\":null,\"payments\":null},\"appClientId\":null,\"sessionId\":null,\"paymentMethods\":[{\"id\":54,\"name\":\"Faturado\",\"installments\":1,\"value\":411.1,\"sequential\":1,\"paymentMethodGroup\":{\"id\":25,\"name\":\"Interno\"},\"paymentMethodCategory\":{\"id\":13,\"name\":\"Faturado\"}}]}\"\"\"\n",
    "json_sample = json.loads(json_query)"
   ]
  },
  {
   "cell_type": "code",
   "execution_count": 3,
   "metadata": {
    "collapsed": false
   },
   "outputs": [],
   "source": [
    "ent = entityTemplateCarol.createTemplate(token_object)"
   ]
  },
  {
   "cell_type": "code",
   "execution_count": 4,
   "metadata": {
    "collapsed": false
   },
   "outputs": [
    {
     "name": "stdout",
     "output_type": "stream",
     "text": [
      "40/40\r"
     ]
    }
   ],
   "source": [
    "ent.addFields(json_sample)"
   ]
  },
  {
   "cell_type": "code",
   "execution_count": 13,
   "metadata": {
    "collapsed": false
   },
   "outputs": [
    {
     "data": {
      "text/plain": [
       "{'mdmAnalyzer': 'STANDARD',\n",
       " 'mdmCreated': '2017-10-03T17:24:58Z',\n",
       " 'mdmDescription': {},\n",
       " 'mdmEntityType': 'mdmField',\n",
       " 'mdmFieldType': 'PRIMITIVE',\n",
       " 'mdmFields': [],\n",
       " 'mdmFieldsFull': {},\n",
       " 'mdmForeignKeyField': False,\n",
       " 'mdmId': 'c7fa5240a85f11e7a2900242ac110003',\n",
       " 'mdmIndex': 'ANALYZED',\n",
       " 'mdmLabel': {'en-US': 'gender'},\n",
       " 'mdmLastUpdated': '2017-10-03T17:24:58Z',\n",
       " 'mdmMappingDataType': 'STRING',\n",
       " 'mdmName': 'gender',\n",
       " 'mdmTags': [],\n",
       " 'mdmTenantId': '8d45c660a85b11e7a2900242ac110003'}"
      ]
     },
     "execution_count": 13,
     "metadata": {},
     "output_type": "execute_result"
    }
   ],
   "source": [
    "ent.all_possible_fields.get('gender',[])"
   ]
  },
  {
   "cell_type": "code",
   "execution_count": null,
   "metadata": {
    "collapsed": true
   },
   "outputs": [],
   "source": [
    "SCHEMA_TYPES = {\n",
    "    type(None): NullType,\n",
    "    str: StringType,\n",
    "    int: IntType,\n",
    "    float: DoubleType,\n",
    "    bool: BooleanType,\n",
    "    list: ArrayType,\n",
    "    dict: ObjectType,\n",
    "}"
   ]
  },
  {
   "cell_type": "code",
   "execution_count": 11,
   "metadata": {
    "collapsed": false
   },
   "outputs": [
    {
     "name": "stdout",
     "output_type": "stream",
     "text": [
      "[] <class 'str'>\n",
      "{'mdmName': 'id', 'mdmLabel': {'en-US': 'id'}, 'mdmDescription': {}, 'mdmIndex': 'ANALYZED', 'mdmAnalyzer': 'STANDARD', 'mdmMappingDataType': 'LONG', 'mdmFields': [], 'mdmForeignKeyField': False, 'mdmFieldsFull': {}, 'mdmFieldType': 'PRIMITIVE', 'mdmTags': [], 'mdmId': '1da76a80a85f11e7a2900242ac110003', 'mdmEntityType': 'mdmField', 'mdmCreated': '2017-10-03T17:20:13Z', 'mdmLastUpdated': '2017-10-03T17:20:13Z', 'mdmTenantId': '8d45c660a85b11e7a2900242ac110003'} <class 'int'>\n",
      "[] <class 'str'>\n",
      "[] <class 'str'>\n",
      "[] <class 'NoneType'>\n",
      "[] <class 'NoneType'>\n",
      "[] <class 'str'>\n",
      "[] <class 'str'>\n",
      "[] <class 'str'>\n",
      "[] <class 'str'>\n",
      "[] <class 'float'>\n",
      "[] <class 'list'>\n",
      "[] <class 'int'>\n",
      "[] <class 'int'>\n",
      "[] <class 'int'>\n",
      "[] <class 'int'>\n",
      "[] <class 'list'>\n",
      "[] <class 'dict'>\n",
      "[] <class 'float'>\n",
      "[] <class 'float'>\n",
      "[] <class 'str'>\n",
      "[] <class 'NoneType'>\n",
      "[] <class 'dict'>\n",
      "[] <class 'bool'>\n",
      "[] <class 'int'>\n",
      "[] <class 'dict'>\n",
      "[] <class 'str'>\n",
      "[] <class 'str'>\n",
      "[] <class 'NoneType'>\n",
      "[] <class 'str'>\n",
      "[] <class 'dict'>\n",
      "[] <class 'dict'>\n",
      "[] <class 'dict'>\n",
      "[] <class 'NoneType'>\n",
      "[] <class 'str'>\n",
      "[] <class 'NoneType'>\n",
      "[] <class 'int'>\n",
      "[] <class 'NoneType'>\n",
      "[] <class 'dict'>\n",
      "[] <class 'dict'>\n",
      "[] <class 'str'>\n",
      "[] <class 'dict'>\n",
      "[] <class 'int'>\n",
      "[] <class 'NoneType'>\n",
      "[] <class 'dict'>\n",
      "[] <class 'NoneType'>\n",
      "[] <class 'NoneType'>\n",
      "[] <class 'list'>\n"
     ]
    }
   ],
   "source": [
    "for prop, value in json_sample.items():\n",
    "    ent.all_possible_fields.get(prop,[])\n",
    "    print(ent.all_possible_fields.get(prop,[]),type(value))"
   ]
  },
  {
   "cell_type": "code",
   "execution_count": null,
   "metadata": {
    "collapsed": true
   },
   "outputs": [],
   "source": []
  }
 ],
 "metadata": {
  "kernelspec": {
   "display_name": "Python 3",
   "language": "python",
   "name": "python3"
  },
  "language_info": {
   "codemirror_mode": {
    "name": "ipython",
    "version": 3
   },
   "file_extension": ".py",
   "mimetype": "text/x-python",
   "name": "python",
   "nbconvert_exporter": "python",
   "pygments_lexer": "ipython3",
   "version": "3.6.1"
  }
 },
 "nbformat": 4,
 "nbformat_minor": 0
}
