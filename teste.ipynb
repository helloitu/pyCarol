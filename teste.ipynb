{
 "cells": [
  {
   "cell_type": "code",
   "execution_count": 80,
   "metadata": {},
   "outputs": [
    {
     "name": "stdout",
     "output_type": "stream",
     "text": [
      "aedcce20ce1911e784630242ac110003\n"
     ]
    }
   ],
   "source": [
    "import pandas as pd\n",
    "import json\n",
    "from pycarol import loginCarol, entityTemplateCarol\n",
    "\n",
    "\n",
    "with open('../carol-ds-retail/config.json') as json_data:\n",
    "    d = json.loads(json_data.read())\n",
    "token_object = loginCarol.loginCarol(**d['mario'])\n",
    "token_object.newToken()\n",
    "print(token_object.access_token)"
   ]
  },
  {
   "cell_type": "code",
   "execution_count": 81,
   "metadata": {},
   "outputs": [
    {
     "data": {
      "text/plain": [
       "'aedcce21ce1911e784630242ac110003'"
      ]
     },
     "execution_count": 81,
     "metadata": {},
     "output_type": "execute_result"
    }
   ],
   "source": [
    "token_object.refresh_token"
   ]
  },
  {
   "cell_type": "code",
   "execution_count": 82,
   "metadata": {},
   "outputs": [],
   "source": [
    "token_object.refreshToken()"
   ]
  },
  {
   "cell_type": "code",
   "execution_count": 94,
   "metadata": {},
   "outputs": [
    {
     "data": {
      "text/plain": [
       "{'createdAt': '2015-11-16T17:34:37-02:00',\n",
       " 'discountsAndFees': [],\n",
       " 'id': 1,\n",
       " 'interestFee': 0,\n",
       " 'interestRate': 0,\n",
       " 'package': {'description': None, 'id': None, 'value': 0},\n",
       " 'payInFullDiscount': 0,\n",
       " 'paymentMethods': [{'id': 54,\n",
       "   'installments': 1,\n",
       "   'name': 'Faturado',\n",
       "   'paymentMethodCategory': {'id': 13, 'name': 'Faturado'},\n",
       "   'paymentMethodGroup': {'id': 25, 'name': 'Interno'},\n",
       "   'sequential': 1,\n",
       "   'value': 411.1}],\n",
       " 'quantityOfInstallments': 1,\n",
       " 'shippingAddress': {'id': 1,\n",
       "  'local': 'José da Silva',\n",
       "  'phoneAreaCode': '41',\n",
       "  'phoneAreaCodeAlternative': None,\n",
       "  'phoneNumber': '3333-3333',\n",
       "  'recipientName': 'José da Silva',\n",
       "  'streetNumber': '100'},\n",
       " 'shippingMethod': {'adjustedCost': 1,\n",
       "  'cost': 1,\n",
       "  'deliveryDeadLine': '5 dias',\n",
       "  'gatewayId': 1,\n",
       "  'id': 6723,\n",
       "  'name': 'Frete Padrão'},\n",
       " 'subtotal': 410.1,\n",
       " 'tenantId': 'e7dbd874-ea9d-4092-afa4-d2f68acaaaf4',\n",
       " 'total': 411.1}"
      ]
     },
     "execution_count": 94,
     "metadata": {},
     "output_type": "execute_result"
    }
   ],
   "source": [
    "json_query = \"\"\"{\"tenantId\":\"e7dbd874-ea9d-4092-afa4-d2f68acaaaf4\",\"id\":1,\"createdAt\":\"2015-11-16T17:34:37-02:00\",\n",
    "\"subtotal\":410.1,\"discountsAndFees\":[],\"interestFee\":0,\"payInFullDiscount\":0,\"interestRate\":0,\"quantityOfInstallments\":1,\n",
    "\"shippingMethod\":{\"gatewayId\":1,\"id\":6723,\"name\":\"Frete Padrão\",\"deliveryDeadLine\":\"5 dias\",\"cost\":1,\"adjustedCost\":1},\n",
    "\"total\":411.1,\"shippingAddress\":{\"id\":1,\"recipientName\":\"José da Silva\",\"local\":\"José da Silva\",\"phoneAreaCode\":\"41\",\n",
    "\"phoneNumber\":\"3333-3333\",\"phoneAreaCodeAlternative\":null,\n",
    "\"streetNumber\":\"100\"},\n",
    "\"package\":{\"id\":null,\"description\":null,\"value\":0},\"paymentMethods\":[{\"id\":54,\"name\":\"Faturado\",\"installments\":1,\"value\":411.1,\"sequential\":1,\"paymentMethodGroup\":{\"id\":25,\"name\":\"Interno\"},\"paymentMethodCategory\":{\"id\":13,\"name\":\"Faturado\"}}]}\"\"\"\n",
    "json_sample = json.loads(json_query)\n",
    "json_sample"
   ]
  },
  {
   "cell_type": "code",
   "execution_count": 37,
   "metadata": {},
   "outputs": [],
   "source": [
    "ent = entityTemplateCarol.createTemplate(token_object)"
   ]
  },
  {
   "cell_type": "code",
   "execution_count": 38,
   "metadata": {},
   "outputs": [
    {
     "name": "stdout",
     "output_type": "stream",
     "text": [
      "43/43\r"
     ]
    }
   ],
   "source": [
    "ent.addFields(json_sample)"
   ]
  },
  {
   "cell_type": "code",
   "execution_count": 39,
   "metadata": {},
   "outputs": [
    {
     "data": {
      "text/plain": [
       "['boolean', 'date', 'long', 'double', 'nested', 'string', 'object', 'geopoint']"
      ]
     },
     "execution_count": 39,
     "metadata": {},
     "output_type": "execute_result"
    }
   ],
   "source": [
    "ent.possible_types"
   ]
  },
  {
   "cell_type": "code",
   "execution_count": 52,
   "metadata": {},
   "outputs": [],
   "source": [
    "class entIntType(object):\n",
    "    ent_type = 'long'\n",
    "\n",
    "\n",
    "class entDoubleType(object):\n",
    "    ent_type = 'double'\n",
    "\n",
    "\n",
    "class entStringType(object):\n",
    "    ent_type = \"string\"\n",
    "\n",
    "\n",
    "class entNullType(object):\n",
    "    ent_type = \"string\"\n",
    "\n",
    "\n",
    "class entBooleanType(object):\n",
    "    ent_type = \"boolean\"\n",
    "\n",
    "\n",
    "class entArrayType(object):\n",
    "    ent_type = \"nested\"\n",
    "\n",
    "\n",
    "class entObjectType(object):\n",
    "    ent_type = \"object\"\n",
    "\n",
    "\n",
    "\n",
    "class entType(object):\n",
    "    @classmethod\n",
    "    def get_ent_type_for(cls, t):\n",
    "        \"\"\"docstring for get_schema_type_for\"\"\"\n",
    "        SCHEMA_TYPES = {\n",
    "            type(None): entNullType,\n",
    "            str: entStringType,\n",
    "            int: entIntType,\n",
    "            float: entDoubleType,\n",
    "            bool: entBooleanType,\n",
    "            list: entArrayType,\n",
    "            dict: entObjectType,\n",
    "        }\n",
    "\n",
    "        schema_type = SCHEMA_TYPES.get(t)\n",
    "\n",
    "        if not schema_type:\n",
    "            raise JsonEntTypeNotFound(\"There is no schema type for  %s.\\n Try:\\n %s\" % (\n",
    "            str(t), \",\\n\".join([\"\\t%s\" % str(k) for k in SCHEMA_TYPES.keys()])))\n",
    "        return schema_type\n",
    "\n",
    "\n",
    "class JsonEntTypeNotFound(Exception):\n",
    "    pass"
   ]
  },
  {
   "cell_type": "code",
   "execution_count": 41,
   "metadata": {},
   "outputs": [
    {
     "ename": "NameError",
     "evalue": "name 'NullType' is not defined",
     "output_type": "error",
     "traceback": [
      "\u001b[0;31m---------------------------------------------------------------------------\u001b[0m",
      "\u001b[0;31mNameError\u001b[0m                                 Traceback (most recent call last)",
      "\u001b[0;32m<ipython-input-41-f61cfed09ef9>\u001b[0m in \u001b[0;36m<module>\u001b[0;34m()\u001b[0m\n\u001b[1;32m      1\u001b[0m SCHEMA_TYPES = {\n\u001b[0;32m----> 2\u001b[0;31m     \u001b[0mtype\u001b[0m\u001b[0;34m(\u001b[0m\u001b[0;32mNone\u001b[0m\u001b[0;34m)\u001b[0m\u001b[0;34m:\u001b[0m \u001b[0mNullType\u001b[0m\u001b[0;34m,\u001b[0m\u001b[0;34m\u001b[0m\u001b[0m\n\u001b[0m\u001b[1;32m      3\u001b[0m     \u001b[0mstr\u001b[0m\u001b[0;34m:\u001b[0m \u001b[0mStringType\u001b[0m\u001b[0;34m,\u001b[0m\u001b[0;34m\u001b[0m\u001b[0m\n\u001b[1;32m      4\u001b[0m     \u001b[0mint\u001b[0m\u001b[0;34m:\u001b[0m \u001b[0mIntType\u001b[0m\u001b[0;34m,\u001b[0m\u001b[0;34m\u001b[0m\u001b[0m\n\u001b[1;32m      5\u001b[0m     \u001b[0mfloat\u001b[0m\u001b[0;34m:\u001b[0m \u001b[0mDoubleType\u001b[0m\u001b[0;34m,\u001b[0m\u001b[0;34m\u001b[0m\u001b[0m\n",
      "\u001b[0;31mNameError\u001b[0m: name 'NullType' is not defined"
     ]
    }
   ],
   "source": [
    "SCHEMA_TYPES = {\n",
    "    type(None): NullType,\n",
    "    str: StringType,\n",
    "    int: IntType,\n",
    "    float: DoubleType,\n",
    "    bool: BooleanType,\n",
    "    list: ArrayType,\n",
    "    dict: ObjectType,\n",
    "}"
   ]
  },
  {
   "cell_type": "code",
   "execution_count": 64,
   "metadata": {},
   "outputs": [
    {
     "data": {
      "text/plain": [
       "{'mdmAnalyzer': 'STANDARD',\n",
       " 'mdmDescription': {},\n",
       " 'mdmEntityType': 'mdmField',\n",
       " 'mdmFieldType': 'PRIMITIVE',\n",
       " 'mdmFields': [],\n",
       " 'mdmFieldsFull': {},\n",
       " 'mdmForeignKeyField': False,\n",
       " 'mdmId': '1da76a80a85f11e7a2900242ac110003',\n",
       " 'mdmIndex': 'ANALYZED',\n",
       " 'mdmLabel': {'en-US': 'id'},\n",
       " 'mdmMappingDataType': 'LONG',\n",
       " 'mdmName': 'id',\n",
       " 'mdmTags': []}"
      ]
     },
     "execution_count": 64,
     "metadata": {},
     "output_type": "execute_result"
    }
   ],
   "source": [
    "ent_ =  ent.all_possible_fields.get('id',[]).copy()\n",
    "ent_.pop('mdmCreated') \n",
    "ent_.pop('mdmLastUpdated') \n",
    "ent_.pop('mdmTenantId')\n",
    "ent_"
   ]
  },
  {
   "cell_type": "code",
   "execution_count": 97,
   "metadata": {},
   "outputs": [
    {
     "name": "stdout",
     "output_type": "stream",
     "text": [
      "criando PRIMITIVE\n",
      "({'mdmName': 'tenantId', 'mdmMappingDataType': 'string', 'mdmLabel': {'en-US': 'tenantId'}, 'mdmDescription': {'en-US': 'tenantId'}, 'mdmFieldType': 'PRIMITIVE'}, '')\n",
      "SEND FIELD TO DM CREATED\n",
      "criando PRIMITIVE\n",
      "({'mdmName': 'createdAt', 'mdmMappingDataType': 'string', 'mdmLabel': {'en-US': 'createdAt'}, 'mdmDescription': {'en-US': 'createdAt'}, 'mdmFieldType': 'PRIMITIVE'}, '')\n",
      "criando PRIMITIVE\n",
      "({'mdmName': 'subtotal', 'mdmMappingDataType': 'double', 'mdmLabel': {'en-US': 'subtotal'}, 'mdmDescription': {'en-US': 'subtotal'}, 'mdmFieldType': 'PRIMITIVE'}, '')\n",
      "criando NESTED\n"
     ]
    },
    {
     "ename": "TypeError",
     "evalue": "create_field() missing 3 required positional arguments: 'mdmName', 'value', and 'entity_type'",
     "output_type": "error",
     "traceback": [
      "\u001b[0;31m---------------------------------------------------------------------------\u001b[0m",
      "\u001b[0;31mTypeError\u001b[0m                                 Traceback (most recent call last)",
      "\u001b[0;32m<ipython-input-97-3b117111c6a7>\u001b[0m in \u001b[0;36m<module>\u001b[0;34m()\u001b[0m\n\u001b[1;32m     26\u001b[0m             \u001b[0;32mraise\u001b[0m\u001b[0;34m(\u001b[0m\u001b[0;34m'problem'\u001b[0m\u001b[0;34m)\u001b[0m\u001b[0;34m\u001b[0m\u001b[0m\n\u001b[1;32m     27\u001b[0m     \u001b[0;32melse\u001b[0m\u001b[0;34m:\u001b[0m\u001b[0;34m\u001b[0m\u001b[0m\n\u001b[0;32m---> 28\u001b[0;31m         \u001b[0mto_create\u001b[0m \u001b[0;34m=\u001b[0m \u001b[0mcreate_field\u001b[0m\u001b[0;34m(\u001b[0m\u001b[0mprop\u001b[0m\u001b[0;34m,\u001b[0m\u001b[0mvalue\u001b[0m\u001b[0;34m,\u001b[0m \u001b[0mentity_type\u001b[0m\u001b[0;34m)\u001b[0m\u001b[0;34m\u001b[0m\u001b[0m\n\u001b[0m\u001b[1;32m     29\u001b[0m         \u001b[0mprint\u001b[0m\u001b[0;34m(\u001b[0m\u001b[0mto_create\u001b[0m\u001b[0;34m)\u001b[0m\u001b[0;34m\u001b[0m\u001b[0m\n",
      "\u001b[0;32m<ipython-input-97-3b117111c6a7>\u001b[0m in \u001b[0;36mcreate_field\u001b[0;34m(mdmName, value, entity_type, parentId)\u001b[0m\n\u001b[1;32m      7\u001b[0m         \u001b[0mprint\u001b[0m\u001b[0;34m(\u001b[0m\u001b[0;34m'criando NESTED'\u001b[0m\u001b[0;34m)\u001b[0m\u001b[0;34m\u001b[0m\u001b[0m\n\u001b[1;32m      8\u001b[0m         \u001b[0mparentId\u001b[0m \u001b[0;34m=\u001b[0m \u001b[0;36m1234\u001b[0m\u001b[0;34m\u001b[0m\u001b[0m\n\u001b[0;32m----> 9\u001b[0;31m         \u001b[0mcreate_field\u001b[0m\u001b[0;34m(\u001b[0m\u001b[0;34m)\u001b[0m\u001b[0;34m\u001b[0m\u001b[0m\n\u001b[0m\u001b[1;32m     10\u001b[0m     \u001b[0;32melse\u001b[0m\u001b[0;34m:\u001b[0m\u001b[0;34m\u001b[0m\u001b[0m\n\u001b[1;32m     11\u001b[0m         \u001b[0mpayload\u001b[0m\u001b[0;34m[\u001b[0m\u001b[0;34m'mdmFieldType'\u001b[0m\u001b[0;34m]\u001b[0m \u001b[0;34m=\u001b[0m \u001b[0;34m'PRIMITIVE'\u001b[0m\u001b[0;34m\u001b[0m\u001b[0m\n",
      "\u001b[0;31mTypeError\u001b[0m: create_field() missing 3 required positional arguments: 'mdmName', 'value', and 'entity_type'"
     ]
    }
   ],
   "source": [
    "def create_field(mdmName,value,entity_type,parentId = ''): \n",
    "    payload = {\"mdmName\":mdmName,\"mdmMappingDataType\":entity_type.ent_type,\n",
    "           \"mdmLabel\":{\"en-US\": mdmName},\"mdmDescription\":{\"en-US\": mdmName}}\n",
    "    \n",
    "    if entity_type.ent_type == 'nested':\n",
    "        payload['mdmFieldType'] = 'NESTED'\n",
    "        print('criando NESTED')\n",
    "        parentId = 1234\n",
    "        _, parentId = create_field()\n",
    "    else:\n",
    "        payload['mdmFieldType'] = 'PRIMITIVE'   \n",
    "        print('criando PRIMITIVE')\n",
    "\n",
    "    return payload, parentId\n",
    "\n",
    "for prop, value in json_sample.items():\n",
    "    entity_type = entType.get_ent_type_for(type(value))\n",
    "    if prop in ent.all_possible_fields.keys():\n",
    "        ent_ =  ent.all_possible_fields.get(prop,[]).copy()\n",
    "        ent_.pop('mdmCreated') \n",
    "        ent_.pop('mdmLastUpdated') \n",
    "        ent_.pop('mdmTenantId') \n",
    "        if (ent_['mdmMappingDataType'].lower() == entity_type.ent_type) :\n",
    "            print('SEND FIELD TO DM CREATED')\n",
    "        else:\n",
    "            raise('problem')\n",
    "    else:\n",
    "        to_create = create_field(prop,value, entity_type)\n",
    "        print(to_create)"
   ]
  },
  {
   "cell_type": "code",
   "execution_count": 101,
   "metadata": {},
   "outputs": [
    {
     "data": {
      "text/plain": [
       "{'mdmAnalyzer': 'STANDARD',\n",
       " 'mdmCreated': '2017-10-21T04:52:46Z',\n",
       " 'mdmDescription': {'en-US': 'Email', 'pt-BR': 'Email'},\n",
       " 'mdmEntityType': 'mdmField',\n",
       " 'mdmFieldType': 'NESTED',\n",
       " 'mdmFields': [{'mdmCustomDescription': {'en-US': 'Email Address',\n",
       "    'pt-BR': 'Endereço Email'},\n",
       "   'mdmCustomLabel': {'en-US': 'Email Address', 'pt-BR': 'Endereço Email'},\n",
       "   'mdmEnableAddressCleansing': False,\n",
       "   'mdmFieldSurvivorshipRuleIds': [],\n",
       "   'mdmFieldSurvivorshipRules': [],\n",
       "   'mdmFieldType': 'PRIMITIVE',\n",
       "   'mdmFields': [],\n",
       "   'mdmFlagRuleIds': [],\n",
       "   'mdmFlagRules': [],\n",
       "   'mdmForeignKeyField': False,\n",
       "   'mdmHasMapping': False,\n",
       "   'mdmId': 'e9aa7ab0b68c11e794e30242ac110003',\n",
       "   'mdmInternalField': False,\n",
       "   'mdmMappingDataType': 'STRING',\n",
       "   'mdmName': 'mdmemailaddress',\n",
       "   'mdmRequiredBy': '',\n",
       "   'mdmSkipRuleIds': [],\n",
       "   'mdmSkipRules': [],\n",
       "   'mdmTags': []},\n",
       "  {'mdmCustomDescription': {'en-US': 'Email Type', 'pt-BR': 'Tipo do Email'},\n",
       "   'mdmCustomLabel': {'en-US': 'Type', 'pt-BR': 'Tipo'},\n",
       "   'mdmEnableAddressCleansing': False,\n",
       "   'mdmFieldSurvivorshipRuleIds': [],\n",
       "   'mdmFieldSurvivorshipRules': [],\n",
       "   'mdmFieldType': 'PRIMITIVE',\n",
       "   'mdmFields': [],\n",
       "   'mdmFlagRuleIds': [],\n",
       "   'mdmFlagRules': [],\n",
       "   'mdmForeignKeyField': False,\n",
       "   'mdmHasMapping': False,\n",
       "   'mdmId': 'e9b1cdb0b68c11e794e30242ac110003',\n",
       "   'mdmInternalField': False,\n",
       "   'mdmMappingDataType': 'STRING',\n",
       "   'mdmName': 'mdmemailtype',\n",
       "   'mdmRequiredBy': '',\n",
       "   'mdmSkipRuleIds': [],\n",
       "   'mdmSkipRules': [],\n",
       "   'mdmTags': []}],\n",
       " 'mdmFieldsFull': {},\n",
       " 'mdmForeignKeyField': False,\n",
       " 'mdmId': 'e9aa2c90b68c11e794e30242ac110003',\n",
       " 'mdmIndex': 'ANALYZED',\n",
       " 'mdmIsGlobalField': True,\n",
       " 'mdmLabel': {'en-US': 'Email', 'pt-BR': 'Email'},\n",
       " 'mdmLastUpdated': '2017-10-21T18:23:19Z',\n",
       " 'mdmMappingDataType': 'NESTED',\n",
       " 'mdmName': 'mdmemail',\n",
       " 'mdmTags': [],\n",
       " 'mdmTenantId': '8d45c660a85b11e7a2900242ac110003'}"
      ]
     },
     "execution_count": 101,
     "metadata": {},
     "output_type": "execute_result"
    }
   ],
   "source": [
    "ent.all_possible_fields['mdmemail']"
   ]
  },
  {
   "cell_type": "code",
   "execution_count": 65,
   "metadata": {},
   "outputs": [],
   "source": [
    "a = {'mdmAnalyzer':'STANDARD','mdmDescription':{},'mdmEntityType':'mdmField','mdmFieldType':'PRIMITIVE',\n",
    "                 'mdmFields':[],'mdmFieldsFull':{},'mdmForeignKeyField':False,'mdmId':'1da76a80a85f11e7a2900242ac110003',\n",
    "                 'mdmIndex':'ANALYZED','mdmLabel':{'en-US':'id'},'mdmMappingDataType':'LONG','mdmName':'id','mdmTags':[]}"
   ]
  },
  {
   "cell_type": "code",
   "execution_count": 88,
   "metadata": {},
   "outputs": [
    {
     "data": {
      "text/plain": [
       "dict_keys(['tenantId', 'id', 'createdAt', 'updatedAt', 'deliveredAt', 'deliveryEstimatedDate', 'status', 'cancellationReason', 'statusMsgStore', 'statusMsgCustomer', 'subtotal', 'discountsAndFees', 'interestFee', 'payInFullDiscount', 'interestRate', 'quantityOfInstallments', 'appliedPromotions', 'shippingMethod', 'total', 'totalOriginal', 'fullfillmentType', 'storePickup', 'shippingAddress', 'isGuestPurchase', 'customerId', 'billing', 'ip', 'referrerUrl', 'storeURL', 'source', 'customer', 'orderItems', 'shipments', 'multiShipments', 'transactionType', 'subscriptonToken', 'cartId', 'checkStockId', 'paymentTransactions', 'pricingTable', 'sourceChannel', 'invoices', 'templateId', 'wishlist', 'marketplace', 'appClientId', 'sessionId', 'paymentMethods'])"
      ]
     },
     "execution_count": 88,
     "metadata": {},
     "output_type": "execute_result"
    }
   ],
   "source": [
    "json_sample.keys()"
   ]
  },
  {
   "cell_type": "code",
   "execution_count": 72,
   "metadata": {},
   "outputs": [],
   "source": [
    "json_sample.pop('')"
   ]
  },
  {
   "cell_type": "code",
   "execution_count": 73,
   "metadata": {},
   "outputs": [
    {
     "data": {
      "text/plain": [
       "{'mdmAnalyzer': 'STANDARD',\n",
       " 'mdmDescription': {},\n",
       " 'mdmEntityType': 'mdmField',\n",
       " 'mdmFieldType': 'PRIMITIVE',\n",
       " 'mdmFields': [],\n",
       " 'mdmFieldsFull': {},\n",
       " 'mdmForeignKeyField': False,\n",
       " 'mdmId': 1234,\n",
       " 'mdmIndex': 'ANALYZED',\n",
       " 'mdmLabel': {'en-US': 'id'},\n",
       " 'mdmMappingDataType': 'LONG',\n",
       " 'mdmName': 'id',\n",
       " 'mdmTags': [],\n",
       " 'teste': 'sdasd'}"
      ]
     },
     "execution_count": 73,
     "metadata": {},
     "output_type": "execute_result"
    }
   ],
   "source": [
    "a"
   ]
  },
  {
   "cell_type": "code",
   "execution_count": null,
   "metadata": {
    "collapsed": true
   },
   "outputs": [],
   "source": []
  }
 ],
 "metadata": {
  "kernelspec": {
   "display_name": "Python 3",
   "language": "python",
   "name": "python3"
  },
  "language_info": {
   "codemirror_mode": {
    "name": "ipython",
    "version": 3
   },
   "file_extension": ".py",
   "mimetype": "text/x-python",
   "name": "python",
   "nbconvert_exporter": "python",
   "pygments_lexer": "ipython3",
   "version": "3.6.1"
  }
 },
 "nbformat": 4,
 "nbformat_minor": 1
}
