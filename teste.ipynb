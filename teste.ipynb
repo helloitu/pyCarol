{
 "cells": [
  {
   "cell_type": "code",
   "execution_count": 5,
   "metadata": {
    "collapsed": false
   },
   "outputs": [
    {
     "name": "stdout",
     "output_type": "stream",
     "text": [
      "aba844c0d04211e781e40242ac110003\n"
     ]
    }
   ],
   "source": [
    "import pandas as pd\n",
    "import json\n",
    "from pycarol import loginCarol, entityTemplateCarol, fieldsCarol\n",
    "\n",
    "\n",
    "with open('../carol-ds-retail/config.json') as json_data:\n",
    "    d = json.loads(json_data.read())\n",
    "token_object = loginCarol.loginCarol(**d['mario'])\n",
    "token_object.newToken()\n",
    "print(token_object.access_token)"
   ]
  },
  {
   "cell_type": "code",
   "execution_count": 6,
   "metadata": {
    "collapsed": false
   },
   "outputs": [
    {
     "data": {
      "text/plain": [
       "'aba844c1d04211e781e40242ac110003'"
      ]
     },
     "execution_count": 6,
     "metadata": {},
     "output_type": "execute_result"
    }
   ],
   "source": [
    "token_object.refresh_token"
   ]
  },
  {
   "cell_type": "code",
   "execution_count": 7,
   "metadata": {
    "collapsed": true
   },
   "outputs": [],
   "source": [
    "tem = entityTemplateCarol.createTemplate(token_object)"
   ]
  },
  {
   "cell_type": "code",
   "execution_count": 8,
   "metadata": {
    "collapsed": false
   },
   "outputs": [
    {
     "data": {
      "text/plain": [
       "{'mdmAnalyzer': 'STANDARD',\n",
       " 'mdmCreated': '2017-11-22T18:30:58Z',\n",
       " 'mdmDescription': {'en-US': 'createdAt'},\n",
       " 'mdmEntityType': 'mdmField',\n",
       " 'mdmFieldType': 'PRIMITIVE',\n",
       " 'mdmFields': [],\n",
       " 'mdmFieldsFull': {},\n",
       " 'mdmForeignKeyField': False,\n",
       " 'mdmId': '4892b800cfb311e7a5c00242ac110003',\n",
       " 'mdmIndex': 'ANALYZED',\n",
       " 'mdmLabel': {'en-US': 'createdAt'},\n",
       " 'mdmLastUpdated': '2017-11-22T18:30:58Z',\n",
       " 'mdmMappingDataType': 'STRING',\n",
       " 'mdmName': 'createdat',\n",
       " 'mdmTags': [],\n",
       " 'mdmTenantId': '8d45c660a85b11e7a2900242ac110003'}"
      ]
     },
     "execution_count": 8,
     "metadata": {},
     "output_type": "execute_result"
    }
   ],
   "source": [
    "tem.all_possible_fields['createdAt'.lower()]"
   ]
  },
  {
   "cell_type": "code",
   "execution_count": 8,
   "metadata": {
    "collapsed": false
   },
   "outputs": [
    {
     "data": {
      "text/plain": [
       "{'course_status': 'asdasd',\n",
       " 'createdAt': '2015-11-16T17:34:37-02:00',\n",
       " 'id': 1,\n",
       " 'subtotal': 410.1,\n",
       " 'tenantId': 'e7dbd874-ea9d-4092-afa4-d2f68acaaaf4'}"
      ]
     },
     "execution_count": 8,
     "metadata": {},
     "output_type": "execute_result"
    }
   ],
   "source": [
    "json_query = \"\"\"{\"tenantId\":\"e7dbd874-ea9d-4092-afa4-d2f68acaaaf4\",\"id\":1,\"createdAt\":\"2015-11-16T17:34:37-02:00\",\n",
    "\"subtotal\":410.1,\"course_status\": \"asdasd\"}\"\"\"\n",
    "json_sample = json.loads(json_query)\n",
    "json_sample"
   ]
  },
  {
   "cell_type": "code",
   "execution_count": 9,
   "metadata": {
    "collapsed": false
   },
   "outputs": [],
   "source": [
    "tem.from_json(json_sample,entityTemplateId='a957fe50cfa111e7a5c00242ac110003')"
   ]
  },
  {
   "cell_type": "code",
   "execution_count": null,
   "metadata": {
    "collapsed": true
   },
   "outputs": [],
   "source": []
  },
  {
   "cell_type": "code",
   "execution_count": 9,
   "metadata": {
    "collapsed": false,
    "scrolled": true
   },
   "outputs": [
    {
     "data": {
      "text/plain": [
       "{'createdAt': '2015-11-16T17:34:37-02:00',\n",
       " 'id': 1,\n",
       " 'interestFee': 0,\n",
       " 'interestRate': 0,\n",
       " 'package': {'description': None, 'id': None, 'value': 0},\n",
       " 'payInFullDiscount': 0,\n",
       " 'paymentMethods': [{'id': 54,\n",
       "   'installments': 1,\n",
       "   'name': 'Faturado',\n",
       "   'paymentMethodCategory': {'id': 13, 'name': 'Faturado'},\n",
       "   'paymentMethodGroup': {'id': 25, 'name': 'Interno'},\n",
       "   'sequential': 1,\n",
       "   'value': 411.1}],\n",
       " 'quantityOfInstallments': 1,\n",
       " 'shippingAddress': {'id': 1,\n",
       "  'local': 'José da Silva',\n",
       "  'phoneAreaCode': '41',\n",
       "  'phoneAreaCodeAlternative': None,\n",
       "  'phoneNumber': '3333-3333',\n",
       "  'recipientName': 'José da Silva',\n",
       "  'streetNumber': '100'},\n",
       " 'shippingMethod': {'adjustedCost': 1,\n",
       "  'cost': 1,\n",
       "  'deliveryDeadLine': '5 dias',\n",
       "  'gatewayId': 1,\n",
       "  'id': 6723,\n",
       "  'name': 'Frete Padrão'},\n",
       " 'subtotal': 410.1,\n",
       " 'tenantId': 'e7dbd874-ea9d-4092-afa4-d2f68acaaaf4',\n",
       " 'total': 411.1}"
      ]
     },
     "execution_count": 9,
     "metadata": {},
     "output_type": "execute_result"
    }
   ],
   "source": [
    "json_query = \"\"\"{\"tenantId\":\"e7dbd874-ea9d-4092-afa4-d2f68acaaaf4\",\"id\":1,\"createdAt\":\"2015-11-16T17:34:37-02:00\",\n",
    "\"subtotal\":410.1,\"interestFee\":0,\"payInFullDiscount\":0,\"interestRate\":0,\"quantityOfInstallments\":1,\n",
    "\"shippingMethod\":{\"gatewayId\":1,\"id\":6723,\"name\":\"Frete Padrão\",\"deliveryDeadLine\":\"5 dias\",\"cost\":1,\"adjustedCost\":1},\n",
    "\"total\":411.1,\"shippingAddress\":{\"id\":1,\"recipientName\":\"José da Silva\",\"local\":\"José da Silva\",\"phoneAreaCode\":\"41\",\n",
    "\"phoneNumber\":\"3333-3333\",\"phoneAreaCodeAlternative\":null,\n",
    "\"streetNumber\":\"100\"},\n",
    "\"package\":{\"id\":null,\"description\":null,\"value\":0},\"paymentMethods\":[{\"id\":54,\"name\":\"Faturado\",\"installments\":1,\"value\":411.1,\"sequential\":1,\"paymentMethodGroup\":{\"id\":25,\"name\":\"Interno\"},\"paymentMethodCategory\":{\"id\":13,\"name\":\"Faturado\"}}]}\"\"\"\n",
    "json_sample = json.loads(json_query)\n",
    "json_sample"
   ]
  },
  {
   "cell_type": "code",
   "execution_count": 5,
   "metadata": {
    "collapsed": false,
    "scrolled": true
   },
   "outputs": [
    {
     "data": {
      "text/plain": [
       "{'tes1': {'mdmAllowPushSubscription': False,\n",
       "  'mdmCreated': '2017-11-22T16:24:49Z',\n",
       "  'mdmDescription': {},\n",
       "  'mdmEntitySpace': 'WORKING',\n",
       "  'mdmEntityTemplateType': [{'mdmCreated': '2017-11-22T04:52:35Z',\n",
       "    'mdmDescription': {'en-US': 'Person', 'pt-BR': 'Pessoa'},\n",
       "    'mdmEntityType': 'mdmEntityTemplateType',\n",
       "    'mdmId': '8b0a44048f58988b486bdd0d245b22a8',\n",
       "    'mdmLastUpdated': '2017-11-22T04:52:35Z',\n",
       "    'mdmModelEntityTemplateId': '',\n",
       "    'mdmName': 'person',\n",
       "    'mdmTenantId': '8cd6e43115e9416eb23609486fa053e3'}],\n",
       "  'mdmEntityTemplateTypeIds': ['8b0a44048f58988b486bdd0d245b22a8'],\n",
       "  'mdmEntityType': 'mdmEntityTemplateWorking',\n",
       "  'mdmEntityValidationRuleIds': [],\n",
       "  'mdmEntityValidationRules': [],\n",
       "  'mdmFieldMergeRuleIds': [],\n",
       "  'mdmFieldMergeRules': [],\n",
       "  'mdmFields': [],\n",
       "  'mdmFieldsFull': {},\n",
       "  'mdmGeocodeEnabled': False,\n",
       "  'mdmGroupName': 'teste',\n",
       "  'mdmId': 'a957fe50cfa111e7a5c00242ac110003',\n",
       "  'mdmLabel': {'en-US': 'test1'},\n",
       "  'mdmLastUpdated': '2017-11-22T16:24:49Z',\n",
       "  'mdmName': 'tes1',\n",
       "  'mdmNature': 'GOLDEN',\n",
       "  'mdmProfileTitleFields': [],\n",
       "  'mdmPublishedExists': False,\n",
       "  'mdmRelatedTemplates': {},\n",
       "  'mdmState': 'NOT_CHANGED',\n",
       "  'mdmStatus': 'ACTIVE',\n",
       "  'mdmTags': [],\n",
       "  'mdmTenantId': '8d45c660a85b11e7a2900242ac110003',\n",
       "  'mdmTransactionDataModel': False,\n",
       "  'mdmVerticalIds': ['3338b93611000c12bea41bcd7e9ad8c1'],\n",
       "  'mdmVerticals': [{'mdmCreated': '2017-11-22T04:52:35Z',\n",
       "    'mdmDescription': {'en-US': 'Retail', 'pt-BR': 'Varejo'},\n",
       "    'mdmEntityType': 'mdmVertical',\n",
       "    'mdmId': '3338b93611000c12bea41bcd7e9ad8c1',\n",
       "    'mdmLastUpdated': '2017-11-22T04:52:35Z',\n",
       "    'mdmName': 'retail',\n",
       "    'mdmTenantId': '8cd6e43115e9416eb23609486fa053e3'}]}}"
      ]
     },
     "execution_count": 5,
     "metadata": {},
     "output_type": "execute_result"
    }
   ],
   "source": [
    "ent.entityTemplate_"
   ]
  },
  {
   "cell_type": "code",
   "execution_count": null,
   "metadata": {
    "collapsed": true
   },
   "outputs": [],
   "source": []
  },
  {
   "cell_type": "code",
   "execution_count": null,
   "metadata": {
    "collapsed": true
   },
   "outputs": [],
   "source": []
  },
  {
   "cell_type": "code",
   "execution_count": 25,
   "metadata": {
    "collapsed": false
   },
   "outputs": [
    {
     "name": "stdout",
     "output_type": "stream",
     "text": [
      "criando PRIMITIVE\n",
      "({'mdmName': 'tenantId', 'mdmMappingDataType': 'string', 'mdmLabel': {'en-US': 'tenantId'}, 'mdmDescription': {'en-US': 'tenantId'}, 'mdmFieldType': 'PRIMITIVE'}, '')\n",
      "SEND FIELD TO DM CREATED\n",
      "criando PRIMITIVE\n",
      "({'mdmName': 'createdAt', 'mdmMappingDataType': 'string', 'mdmLabel': {'en-US': 'createdAt'}, 'mdmDescription': {'en-US': 'createdAt'}, 'mdmFieldType': 'PRIMITIVE'}, '')\n",
      "criando PRIMITIVE\n",
      "({'mdmName': 'subtotal', 'mdmMappingDataType': 'double', 'mdmLabel': {'en-US': 'subtotal'}, 'mdmDescription': {'en-US': 'subtotal'}, 'mdmFieldType': 'PRIMITIVE'}, '')\n",
      "criando PRIMITIVE\n",
      "({'mdmName': 'interestFee', 'mdmMappingDataType': 'long', 'mdmLabel': {'en-US': 'interestFee'}, 'mdmDescription': {'en-US': 'interestFee'}, 'mdmFieldType': 'PRIMITIVE'}, '')\n",
      "criando PRIMITIVE\n",
      "({'mdmName': 'payInFullDiscount', 'mdmMappingDataType': 'long', 'mdmLabel': {'en-US': 'payInFullDiscount'}, 'mdmDescription': {'en-US': 'payInFullDiscount'}, 'mdmFieldType': 'PRIMITIVE'}, '')\n",
      "criando PRIMITIVE\n",
      "({'mdmName': 'interestRate', 'mdmMappingDataType': 'long', 'mdmLabel': {'en-US': 'interestRate'}, 'mdmDescription': {'en-US': 'interestRate'}, 'mdmFieldType': 'PRIMITIVE'}, '')\n",
      "criando PRIMITIVE\n",
      "({'mdmName': 'quantityOfInstallments', 'mdmMappingDataType': 'long', 'mdmLabel': {'en-US': 'quantityOfInstallments'}, 'mdmDescription': {'en-US': 'quantityOfInstallments'}, 'mdmFieldType': 'PRIMITIVE'}, '')\n",
      "criando PRIMITIVE\n",
      "({'mdmName': 'shippingMethod', 'mdmMappingDataType': 'object', 'mdmLabel': {'en-US': 'shippingMethod'}, 'mdmDescription': {'en-US': 'shippingMethod'}, 'mdmFieldType': 'PRIMITIVE'}, '')\n",
      "criando PRIMITIVE\n",
      "({'mdmName': 'total', 'mdmMappingDataType': 'double', 'mdmLabel': {'en-US': 'total'}, 'mdmDescription': {'en-US': 'total'}, 'mdmFieldType': 'PRIMITIVE'}, '')\n",
      "criando PRIMITIVE\n",
      "({'mdmName': 'shippingAddress', 'mdmMappingDataType': 'object', 'mdmLabel': {'en-US': 'shippingAddress'}, 'mdmDescription': {'en-US': 'shippingAddress'}, 'mdmFieldType': 'PRIMITIVE'}, '')\n",
      "criando PRIMITIVE\n",
      "({'mdmName': 'package', 'mdmMappingDataType': 'object', 'mdmLabel': {'en-US': 'package'}, 'mdmDescription': {'en-US': 'package'}, 'mdmFieldType': 'PRIMITIVE'}, '')\n",
      "criando NESTED\n"
     ]
    },
    {
     "ename": "TypeError",
     "evalue": "create_field() missing 3 required positional arguments: 'mdmName', 'value', and 'entity_type'",
     "traceback": [
      "\u001b[0;31m---------------------------------------------------------------------------\u001b[0m",
      "\u001b[0;31mTypeError\u001b[0m                                 Traceback (most recent call last)",
      "\u001b[0;32m<ipython-input-25-b724d021d43d>\u001b[0m in \u001b[0;36m<module>\u001b[0;34m()\u001b[0m\n\u001b[1;32m     26\u001b[0m             \u001b[1;32mraise\u001b[0m\u001b[1;33m(\u001b[0m\u001b[1;34m'problem'\u001b[0m\u001b[1;33m)\u001b[0m\u001b[1;33m\u001b[0m\u001b[0m\n\u001b[1;32m     27\u001b[0m     \u001b[1;32melse\u001b[0m\u001b[1;33m:\u001b[0m\u001b[1;33m\u001b[0m\u001b[0m\n\u001b[0;32m---> 28\u001b[0;31m         \u001b[0mto_create\u001b[0m \u001b[1;33m=\u001b[0m \u001b[0mcreate_field\u001b[0m\u001b[1;33m(\u001b[0m\u001b[0mprop\u001b[0m\u001b[1;33m,\u001b[0m\u001b[0mvalue\u001b[0m\u001b[1;33m,\u001b[0m \u001b[0mentity_type\u001b[0m\u001b[1;33m)\u001b[0m\u001b[1;33m\u001b[0m\u001b[0m\n\u001b[0m\u001b[1;32m     29\u001b[0m         \u001b[0mprint\u001b[0m\u001b[1;33m(\u001b[0m\u001b[0mto_create\u001b[0m\u001b[1;33m)\u001b[0m\u001b[1;33m\u001b[0m\u001b[0m\n",
      "\u001b[0;32m<ipython-input-25-b724d021d43d>\u001b[0m in \u001b[0;36mcreate_field\u001b[0;34m(mdmName, value, entity_type, parentId)\u001b[0m\n\u001b[1;32m      7\u001b[0m         \u001b[0mprint\u001b[0m\u001b[1;33m(\u001b[0m\u001b[1;34m'criando NESTED'\u001b[0m\u001b[1;33m)\u001b[0m\u001b[1;33m\u001b[0m\u001b[0m\n\u001b[1;32m      8\u001b[0m         \u001b[0mparentId\u001b[0m \u001b[1;33m=\u001b[0m \u001b[1;36m1234\u001b[0m\u001b[1;33m\u001b[0m\u001b[0m\n\u001b[0;32m----> 9\u001b[0;31m         \u001b[0m_\u001b[0m\u001b[1;33m,\u001b[0m \u001b[0mparentId\u001b[0m \u001b[1;33m=\u001b[0m \u001b[0mcreate_field\u001b[0m\u001b[1;33m(\u001b[0m\u001b[1;33m)\u001b[0m\u001b[1;33m\u001b[0m\u001b[0m\n\u001b[0m\u001b[1;32m     10\u001b[0m     \u001b[1;32melse\u001b[0m\u001b[1;33m:\u001b[0m\u001b[1;33m\u001b[0m\u001b[0m\n\u001b[1;32m     11\u001b[0m         \u001b[0mpayload\u001b[0m\u001b[1;33m[\u001b[0m\u001b[1;34m'mdmFieldType'\u001b[0m\u001b[1;33m]\u001b[0m \u001b[1;33m=\u001b[0m \u001b[1;34m'PRIMITIVE'\u001b[0m\u001b[1;33m\u001b[0m\u001b[0m\n",
      "\u001b[0;31mTypeError\u001b[0m: create_field() missing 3 required positional arguments: 'mdmName', 'value', and 'entity_type'"
     ],
     "output_type": "error"
    }
   ],
   "source": [
    "def create_field(mdmName,value,parentId = ''): \n",
    "    payload = {\"mdmName\":mdmName,\"mdmMappingDataType\":entity_type.ent_type,\n",
    "           \"mdmLabel\":{\"en-US\": mdmName},\"mdmDescription\":{\"en-US\": mdmName}}\n",
    "    entity_type = entType.get_ent_type_for(type(value))\n",
    "    \n",
    "    if entity_type == entObjectType and len(value) > 0:\n",
    "        for key, val in value.items():\n",
    "            payload['mdmFieldType'] = 'NESTED'\n",
    "            print('criando NESTED')\n",
    "            parentId = 1234\n",
    "            create_field(key,val,parentId = parentId)\n",
    "    \n",
    "    elif entity_type == entArrayType and len(value) > 0:\n",
    "        pass\n",
    "    \n",
    "    if entity_type.ent_type == 'nested':\n",
    "        \n",
    "        payload['mdmFieldType'] = 'NESTED'\n",
    "        print('criando NESTED')\n",
    "        parentId = 1234\n",
    "        _, parentId = create_field()\n",
    "    else:\n",
    "        payload['mdmFieldType'] = 'PRIMITIVE'   \n",
    "        print('criando PRIMITIVE')\n",
    "\n",
    "    return payload, parentId"
   ]
  },
  {
   "cell_type": "code",
   "execution_count": 11,
   "metadata": {
    "collapsed": false
   },
   "outputs": [],
   "source": [
    "from jsonpath_rw import jsonpath, parse"
   ]
  },
  {
   "cell_type": "code",
   "execution_count": 4,
   "metadata": {
    "collapsed": false
   },
   "outputs": [
    {
     "ename": "NameError",
     "evalue": "name 'jsonpath' is not defined",
     "traceback": [
      "\u001b[0;31m---------------------------------------------------------------------------\u001b[0m",
      "\u001b[0;31mNameError\u001b[0m                                 Traceback (most recent call last)",
      "\u001b[0;32m<ipython-input-4-001dbfd026c7>\u001b[0m in \u001b[0;36m<module>\u001b[0;34m()\u001b[0m\n\u001b[0;32m----> 1\u001b[0;31m patch = jsonpath.JsonPatch([\n\u001b[0m\u001b[1;32m      2\u001b[0m     \u001b[1;33m{\u001b[0m\u001b[1;34m'op'\u001b[0m\u001b[1;33m:\u001b[0m \u001b[1;34m'add'\u001b[0m\u001b[1;33m,\u001b[0m \u001b[1;34m'path'\u001b[0m\u001b[1;33m:\u001b[0m \u001b[1;34m'/foo'\u001b[0m\u001b[1;33m,\u001b[0m \u001b[1;34m'value'\u001b[0m\u001b[1;33m:\u001b[0m \u001b[1;34m'bar'\u001b[0m\u001b[1;33m}\u001b[0m\u001b[1;33m,\u001b[0m\u001b[1;33m\u001b[0m\u001b[0m\n\u001b[1;32m      3\u001b[0m     \u001b[1;33m{\u001b[0m\u001b[1;34m'op'\u001b[0m\u001b[1;33m:\u001b[0m \u001b[1;34m'add'\u001b[0m\u001b[1;33m,\u001b[0m \u001b[1;34m'path'\u001b[0m\u001b[1;33m:\u001b[0m \u001b[1;34m'/baz'\u001b[0m\u001b[1;33m,\u001b[0m \u001b[1;34m'value'\u001b[0m\u001b[1;33m:\u001b[0m \u001b[1;33m[\u001b[0m\u001b[1;36m1\u001b[0m\u001b[1;33m,\u001b[0m \u001b[1;36m2\u001b[0m\u001b[1;33m,\u001b[0m \u001b[1;36m3\u001b[0m\u001b[1;33m]\u001b[0m\u001b[1;33m}\u001b[0m\u001b[1;33m,\u001b[0m\u001b[1;33m\u001b[0m\u001b[0m\n\u001b[1;32m      4\u001b[0m     \u001b[1;33m{\u001b[0m\u001b[1;34m'op'\u001b[0m\u001b[1;33m:\u001b[0m \u001b[1;34m'remove'\u001b[0m\u001b[1;33m,\u001b[0m \u001b[1;34m'path'\u001b[0m\u001b[1;33m:\u001b[0m \u001b[1;34m'/baz/1'\u001b[0m\u001b[1;33m}\u001b[0m\u001b[1;33m,\u001b[0m\u001b[1;33m\u001b[0m\u001b[0m\n\u001b[1;32m      5\u001b[0m     \u001b[1;33m{\u001b[0m\u001b[1;34m'op'\u001b[0m\u001b[1;33m:\u001b[0m \u001b[1;34m'test'\u001b[0m\u001b[1;33m,\u001b[0m \u001b[1;34m'path'\u001b[0m\u001b[1;33m:\u001b[0m \u001b[1;34m'/baz'\u001b[0m\u001b[1;33m,\u001b[0m \u001b[1;34m'value'\u001b[0m\u001b[1;33m:\u001b[0m \u001b[1;33m[\u001b[0m\u001b[1;36m1\u001b[0m\u001b[1;33m,\u001b[0m \u001b[1;36m3\u001b[0m\u001b[1;33m]\u001b[0m\u001b[1;33m}\u001b[0m\u001b[1;33m,\u001b[0m\u001b[1;33m\u001b[0m\u001b[0m\n",
      "\u001b[0;31mNameError\u001b[0m: name 'jsonpath' is not defined"
     ],
     "output_type": "error"
    }
   ],
   "source": [
    "patch = jsonpath.JsonPatch([\n",
    "    {'op': 'add', 'path': '/foo', 'value': 'bar'},\n",
    "    {'op': 'add', 'path': '/baz', 'value': [1, 2, 3]},\n",
    "    {'op': 'remove', 'path': '/baz/1'},\n",
    "    {'op': 'test', 'path': '/baz', 'value': [1, 3]},\n",
    "    {'op': 'replace', 'path': '/baz/0', 'value': 42},\n",
    "    {'op': 'remove', 'path': '/baz/1'},\n",
    "])"
   ]
  },
  {
   "cell_type": "code",
   "execution_count": 23,
   "metadata": {
    "collapsed": false
   },
   "outputs": [
    {
     "data": {
      "text/plain": [
       "{'createdAt': '2015-11-16T17:34:37-02:00',\n",
       " 'id': 1,\n",
       " 'interestFee': 0,\n",
       " 'interestRate': 0,\n",
       " 'package': {'description': None, 'id': None, 'value': 0},\n",
       " 'payInFullDiscount': 0,\n",
       " 'paymentMethods': [{'id': 54,\n",
       "   'installments': 1,\n",
       "   'name': 'Faturado',\n",
       "   'paymentMethodCategory': {'id': 13, 'name': 'Faturado'},\n",
       "   'paymentMethodGroup': {'id': 25, 'name': 'Interno'},\n",
       "   'sequential': 1,\n",
       "   'value': 411.1}],\n",
       " 'quantityOfInstallments': 1,\n",
       " 'shippingAddress': {'id': 1,\n",
       "  'local': 'José da Silva',\n",
       "  'phoneAreaCode': '41',\n",
       "  'phoneAreaCodeAlternative': None,\n",
       "  'phoneNumber': '3333-3333',\n",
       "  'recipientName': 'José da Silva',\n",
       "  'streetNumber': '100'},\n",
       " 'shippingMethod': {'adjustedCost': 1,\n",
       "  'cost': 1,\n",
       "  'deliveryDeadLine': '5 dias',\n",
       "  'gatewayId': 1,\n",
       "  'id': 6723,\n",
       "  'name': 'Frete Padrão'},\n",
       " 'subtotal': 410.1,\n",
       " 'tenantId': 'e7dbd874-ea9d-4092-afa4-d2f68acaaaf4',\n",
       " 'total': 411.1}"
      ]
     },
     "execution_count": 23,
     "metadata": {},
     "output_type": "execute_result"
    }
   ],
   "source": [
    "json_query"
   ]
  },
  {
   "cell_type": "code",
   "execution_count": 21,
   "metadata": {
    "collapsed": true
   },
   "outputs": [],
   "source": [
    "jsonpath_expr = parse('*.id')"
   ]
  },
  {
   "cell_type": "code",
   "execution_count": 25,
   "metadata": {
    "collapsed": false
   },
   "outputs": [
    {
     "data": {
      "text/plain": [
       "['shippingMethod.id', 'shippingAddress.id', 'package.id']"
      ]
     },
     "execution_count": 25,
     "metadata": {},
     "output_type": "execute_result"
    }
   ],
   "source": [
    "[str(match.full_path) for match in jsonpath_expr.find(json_query)]"
   ]
  },
  {
   "cell_type": "code",
   "execution_count": null,
   "metadata": {
    "collapsed": true
   },
   "outputs": [],
   "source": []
  }
 ],
 "metadata": {
  "kernelspec": {
   "display_name": "Python 3",
   "language": "python",
   "name": "python3"
  },
  "language_info": {
   "codemirror_mode": {
    "name": "ipython",
    "version": 3
   },
   "file_extension": ".py",
   "mimetype": "text/x-python",
   "name": "python",
   "nbconvert_exporter": "python",
   "pygments_lexer": "ipython3",
   "version": "3.6.1"
  }
 },
 "nbformat": 4,
 "nbformat_minor": 1
}
