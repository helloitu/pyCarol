{
 "cells": [
  {
   "cell_type": "code",
   "execution_count": 1,
   "metadata": {},
   "outputs": [
    {
     "name": "stderr",
     "output_type": "stream",
     "text": [
      "/home/rafonseca/projects/carol-ds-education/edu-env/lib/python3.6/site-packages/luigi/parameter.py:284: UserWarning: Parameter \"task_process_context\" with value \"None\" is not of type string.\n",
      "  warnings.warn('Parameter \"{}\" with value \"{}\" is not of type string.'.format(param_name, param_value))\n",
      "INFO: Done scheduling tasks\n",
      "INFO: Running Worker with 1 processes\n",
      "DEBUG: Asking scheduler for work...\n",
      "DEBUG: Done\n",
      "DEBUG: There are no more tasks to run at this time\n",
      "INFO: Worker Worker(salt=789738151, workers=1, host=SPON010113687, username=rafonseca, pid=8535) was stopped. Shutting down Keep-Alive thread\n",
      "INFO: \n",
      "===== Luigi Execution Summary =====\n",
      "\n",
      "Did not schedule any tasks\n",
      "\n",
      "===== Luigi Execution Summary =====\n",
      "\n",
      "Using TensorFlow backend.\n"
     ]
    }
   ],
   "source": [
    "from app.flow.commons import params\n",
    "from app.flow.output import RunMe\n",
    "\n",
    "from pycarol.luigi_extension import TaskViewer\n"
   ]
  },
  {
   "cell_type": "code",
   "execution_count": 4,
   "metadata": {},
   "outputs": [
    {
     "name": "stdout",
     "output_type": "stream",
     "text": [
      "output.RunMe[args=(), kwargs={'start_year_semester': '2010.1', 'filter_by_snapshot_date': True, 'filter_by_modification_date': False, 'evader_profile_dict': {'axis': ['history_score', 'grade_score', 'payment_score', 'absence_score'], 'label': ['Histórico', 'Coeficiente de rendimento', 'Financeiro', 'Frequência']}, 'tenant': 'educationino', 'branch': '1.2.0dev', 'debug': 'true', 'nb_groups': '3', 'end_year_semester': '2019.1', 'predict_period': '2018.2', 'snapshot': datetime.datetime(2018, 11, 1, 0, 0), 'valid_school_periods': ['2010.1', '2010.2', '2011.1', '2011.2', '2012.1', '2012.2', '2013.1', '2013.2', '2014.1', '2014.2', '2015.1', '2015.2', '2016.1', '2016.2', '2017.1', '2017.2', '2018.1', '2018.2', '2019.1']}]: unknown parameter start_year_semester\n",
      "output.RunMe[args=(), kwargs={'start_year_semester': '2010.1', 'filter_by_snapshot_date': True, 'filter_by_modification_date': False, 'evader_profile_dict': {'axis': ['history_score', 'grade_score', 'payment_score', 'absence_score'], 'label': ['Histórico', 'Coeficiente de rendimento', 'Financeiro', 'Frequência']}, 'tenant': 'educationino', 'branch': '1.2.0dev', 'debug': 'true', 'nb_groups': '3', 'end_year_semester': '2019.1', 'predict_period': '2018.2', 'snapshot': datetime.datetime(2018, 11, 1, 0, 0), 'valid_school_periods': ['2010.1', '2010.2', '2011.1', '2011.2', '2012.1', '2012.2', '2013.1', '2013.2', '2014.1', '2014.2', '2015.1', '2015.2', '2016.1', '2016.2', '2017.1', '2017.2', '2018.1', '2018.2', '2019.1']}]: unknown parameter end_year_semester\n",
      "output.RunMe[args=(), kwargs={'start_year_semester': '2010.1', 'filter_by_snapshot_date': True, 'filter_by_modification_date': False, 'evader_profile_dict': {'axis': ['history_score', 'grade_score', 'payment_score', 'absence_score'], 'label': ['Histórico', 'Coeficiente de rendimento', 'Financeiro', 'Frequência']}, 'tenant': 'educationino', 'branch': '1.2.0dev', 'debug': 'true', 'nb_groups': '3', 'end_year_semester': '2019.1', 'predict_period': '2018.2', 'snapshot': datetime.datetime(2018, 11, 1, 0, 0), 'valid_school_periods': ['2010.1', '2010.2', '2011.1', '2011.2', '2012.1', '2012.2', '2013.1', '2013.2', '2014.1', '2014.2', '2015.1', '2015.2', '2016.1', '2016.2', '2017.1', '2017.2', '2018.1', '2018.2', '2019.1']}]: unknown parameter start_year_semester\n",
      "output.RunMe[args=(), kwargs={'start_year_semester': '2010.1', 'filter_by_snapshot_date': True, 'filter_by_modification_date': False, 'evader_profile_dict': {'axis': ['history_score', 'grade_score', 'payment_score', 'absence_score'], 'label': ['Histórico', 'Coeficiente de rendimento', 'Financeiro', 'Frequência']}, 'tenant': 'educationino', 'branch': '1.2.0dev', 'debug': 'true', 'nb_groups': '3', 'end_year_semester': '2019.1', 'predict_period': '2018.2', 'snapshot': datetime.datetime(2018, 11, 1, 0, 0), 'valid_school_periods': ['2010.1', '2010.2', '2011.1', '2011.2', '2012.1', '2012.2', '2013.1', '2013.2', '2014.1', '2014.2', '2015.1', '2015.2', '2016.1', '2016.2', '2017.1', '2017.2', '2018.1', '2018.2', '2019.1']}]: unknown parameter end_year_semester\n"
     ]
    }
   ],
   "source": [
    "#Set params and choose task to debug\n",
    "debug_task = RunMe(**params)"
   ]
  },
  {
   "cell_type": "code",
   "execution_count": 6,
   "metadata": {},
   "outputs": [],
   "source": [
    "#Init Task Viewer\n",
    "TV = TaskViewer(debug_task)\n"
   ]
  },
  {
   "cell_type": "code",
   "execution_count": 9,
   "metadata": {
    "scrolled": false
   },
   "outputs": [
    {
     "data": {
      "text/html": [
       "\n",
       "    <div class=\"bk-root\">\n",
       "        <a href=\"https://bokeh.pydata.org\" target=\"_blank\" class=\"bk-logo bk-logo-small bk-logo-notebook\"></a>\n",
       "        <span id=\"6a8040c7-9f16-4fba-bb54-e08ded68d16c\">Loading BokehJS ...</span>\n",
       "    </div>"
      ]
     },
     "metadata": {},
     "output_type": "execute_result"
    },
    {
     "data": {},
     "metadata": {},
     "output_type": "display_data"
    },
    {
     "data": {
      "text/html": [
       "\n",
       "<script src=\"http://localhost:5008/autoload.js?bokeh-autoload-element=b8698144-4835-4b10-a68e-1d09d7bccb5f&bokeh-absolute-url=http://localhost:5008&resources=none\" id=\"b8698144-4835-4b10-a68e-1d09d7bccb5f\"></script>"
      ]
     },
     "metadata": {
      "application/vnd.bokehjs_exec.v0+json": {
       "server_id": "0f46776df593481b9e02c732667e7645"
      }
     },
     "output_type": "execute_result"
    },
    {
     "name": "stdout",
     "output_type": "stream",
     "text": [
      "start plot_task\n"
     ]
    }
   ],
   "source": [
    "#By default, task viewer uses port 5006 for bokeh and port 8888 for notebook. \n",
    "#url and port for notebook should match jupyter notebook url and port.\n",
    "#The simplest way to make it work is to ssh forward local ports 5006 and 8888\n",
    "TV.show(url=\"localhost\",jupyter_notebook_port=8889 ,bokeh_port=5008,)"
   ]
  },
  {
   "cell_type": "code",
   "execution_count": 10,
   "metadata": {},
   "outputs": [
    {
     "data": {
      "text/plain": [
       "preprocess.Person(tenant=educationino, branch=1.2.0dev, debug=true)"
      ]
     },
     "execution_count": 10,
     "metadata": {},
     "output_type": "execute_result"
    }
   ],
   "source": [
    "# Select task by id\n",
    "task=TV.nodes[3]\n",
    "task"
   ]
  },
  {
   "cell_type": "code",
   "execution_count": 12,
   "metadata": {},
   "outputs": [],
   "source": [
    "# Run task in jupyter notebook\n",
    "task.run()"
   ]
  },
  {
   "cell_type": "code",
   "execution_count": 14,
   "metadata": {},
   "outputs": [],
   "source": [
    "# Load target in jupyter notebook\n",
    "person = task.load()\n"
   ]
  },
  {
   "cell_type": "code",
   "execution_count": 15,
   "metadata": {},
   "outputs": [
    {
     "data": {
      "text/html": [
       "<div>\n",
       "<style scoped>\n",
       "    .dataframe tbody tr th:only-of-type {\n",
       "        vertical-align: middle;\n",
       "    }\n",
       "\n",
       "    .dataframe tbody tr th {\n",
       "        vertical-align: top;\n",
       "    }\n",
       "\n",
       "    .dataframe thead th {\n",
       "        text-align: right;\n",
       "    }\n",
       "</style>\n",
       "<table border=\"1\" class=\"dataframe\">\n",
       "  <thead>\n",
       "    <tr style=\"text-align: right;\">\n",
       "      <th></th>\n",
       "      <th>efficiencycoefficient</th>\n",
       "      <th>admission</th>\n",
       "      <th>graduatedstatus</th>\n",
       "    </tr>\n",
       "  </thead>\n",
       "  <tbody>\n",
       "    <tr>\n",
       "      <th>count</th>\n",
       "      <td>118541.000000</td>\n",
       "      <td>144207.000000</td>\n",
       "      <td>272756.000000</td>\n",
       "    </tr>\n",
       "    <tr>\n",
       "      <th>mean</th>\n",
       "      <td>1.822630</td>\n",
       "      <td>5.584583</td>\n",
       "      <td>0.280217</td>\n",
       "    </tr>\n",
       "    <tr>\n",
       "      <th>std</th>\n",
       "      <td>3.353653</td>\n",
       "      <td>7.657476</td>\n",
       "      <td>0.449106</td>\n",
       "    </tr>\n",
       "    <tr>\n",
       "      <th>min</th>\n",
       "      <td>0.000000</td>\n",
       "      <td>1.000000</td>\n",
       "      <td>0.000000</td>\n",
       "    </tr>\n",
       "    <tr>\n",
       "      <th>25%</th>\n",
       "      <td>0.000000</td>\n",
       "      <td>1.000000</td>\n",
       "      <td>0.000000</td>\n",
       "    </tr>\n",
       "    <tr>\n",
       "      <th>50%</th>\n",
       "      <td>0.000000</td>\n",
       "      <td>1.000000</td>\n",
       "      <td>0.000000</td>\n",
       "    </tr>\n",
       "    <tr>\n",
       "      <th>75%</th>\n",
       "      <td>0.000000</td>\n",
       "      <td>7.000000</td>\n",
       "      <td>1.000000</td>\n",
       "    </tr>\n",
       "    <tr>\n",
       "      <th>max</th>\n",
       "      <td>10.000000</td>\n",
       "      <td>31.000000</td>\n",
       "      <td>1.000000</td>\n",
       "    </tr>\n",
       "  </tbody>\n",
       "</table>\n",
       "</div>"
      ],
      "text/plain": [
       "       efficiencycoefficient      admission  graduatedstatus\n",
       "count          118541.000000  144207.000000    272756.000000\n",
       "mean                1.822630       5.584583         0.280217\n",
       "std                 3.353653       7.657476         0.449106\n",
       "min                 0.000000       1.000000         0.000000\n",
       "25%                 0.000000       1.000000         0.000000\n",
       "50%                 0.000000       1.000000         0.000000\n",
       "75%                 0.000000       7.000000         1.000000\n",
       "max                10.000000      31.000000         1.000000"
      ]
     },
     "execution_count": 15,
     "metadata": {},
     "output_type": "execute_result"
    }
   ],
   "source": [
    "person.describe()"
   ]
  }
 ],
 "metadata": {
  "kernelspec": {
   "display_name": "Python 3",
   "language": "python",
   "name": "python3"
  },
  "language_info": {
   "codemirror_mode": {
    "name": "ipython",
    "version": 3
   },
   "file_extension": ".py",
   "mimetype": "text/x-python",
   "name": "python",
   "nbconvert_exporter": "python",
   "pygments_lexer": "ipython3",
   "version": "3.6.4"
  }
 },
 "nbformat": 4,
 "nbformat_minor": 2
}
