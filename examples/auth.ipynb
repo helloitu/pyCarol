{
 "cells": [
  {
   "cell_type": "markdown",
   "metadata": {
    "collapsed": true
   },
   "source": [
    "# Initializing pyCarol\n",
    "\n",
    "Carol is the main object to access pyCarol and all APIs need it. It will handle all the API calls and authentication.\n",
    "\n",
    "There are two kind of authentication:\n",
    "1. Using User/Password"
   ]
  },
  {
   "cell_type": "code",
   "execution_count": null,
   "metadata": {},
   "outputs": [],
   "source": [
    "TENANT_NAME = 'test'\n",
    "app_name = 'meu_app'\n",
    "USERNAME = 'meuuser@totvs.com.br'\n",
    "PASSWORD = 'foo1234'"
   ]
  },
  {
   "cell_type": "code",
   "execution_count": null,
   "metadata": {},
   "outputs": [],
   "source": [
    "from pycarol.auth.PwdAuth import PwdAuth\n",
    "from pycarol.carol import Carol\n",
    "\n",
    "carol = Carol(domain=TENANT_NAME, app_name=APP_NAME,\n",
    "              auth=PwdAuth(USERNAME, PASSWORD))"
   ]
  },
  {
   "cell_type": "markdown",
   "metadata": {},
   "source": [
    "2. Using API token "
   ]
  },
  {
   "cell_type": "code",
   "execution_count": null,
   "metadata": {},
   "outputs": [],
   "source": [
    "X_AUTH_KEY = '2334543fdsrsadsdsadsad13e3e3d3'\n",
    "CONNECTOR = '23345asdfasdasdasdsad43fdsre3e3d3'"
   ]
  },
  {
   "cell_type": "code",
   "execution_count": null,
   "metadata": {},
   "outputs": [],
   "source": [
    "from pycarol.auth.ApiKeyAuth import ApiKeyAuth\n",
    "from pycarol.carol import Carol\n",
    "\n",
    "carol = Carol(domain=DOMAIN, \n",
    "              app_name=APP_NAME, \n",
    "              auth=ApiKeyAuth(api_key=X_AUTH_KEY),\n",
    "              connector_id=CONNECTOR)"
   ]
  },
  {
   "cell_type": "markdown",
   "metadata": {},
   "source": [
    "The advantage of using API token is that the it never expires, It is valid until someone revoke it. "
   ]
  },
  {
   "cell_type": "code",
   "execution_count": null,
   "metadata": {},
   "outputs": [],
   "source": []
  }
 ],
 "metadata": {
  "kernelspec": {
   "display_name": "Python 3",
   "language": "python",
   "name": "python3"
  },
  "language_info": {
   "codemirror_mode": {
    "name": "ipython",
    "version": 3
   },
   "file_extension": ".py",
   "mimetype": "text/x-python",
   "name": "python",
   "nbconvert_exporter": "python",
   "pygments_lexer": "ipython3",
   "version": "3.6.4"
  }
 },
 "nbformat": 4,
 "nbformat_minor": 1
}
