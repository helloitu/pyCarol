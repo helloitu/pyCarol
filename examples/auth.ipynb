{
 "cells": [
  {
   "cell_type": "markdown",
   "metadata": {
    "collapsed": true
   },
   "source": [
    "# Initializing pyCarol\n",
    "\n",
    "Carol is the main object to access pyCarol and all APIs need it. It will handle all the API calls and authentication.\n",
    "\n",
    "There are two kind of authentication:\n",
    "1. Using User/Password"
   ]
  },
  {
   "cell_type": "code",
   "execution_count": 3,
   "metadata": {},
   "outputs": [],
   "source": [
    "#If you dont have the package installed you can add it to the path.\n",
    "import sys\n",
    "sys.path.insert(0, '/Users/rafarui/Documents/pyCarol/')"
   ]
  },
  {
   "cell_type": "code",
   "execution_count": 7,
   "metadata": {},
   "outputs": [],
   "source": [
    "TENANT_NAME = 'pycarol'\n",
    "APP_NAME = 'my_app'\n",
    "USERNAME = 'pycarol@totvs.com.br'\n",
    "PASSWORD = 'foo123'"
   ]
  },
  {
   "cell_type": "code",
   "execution_count": 8,
   "metadata": {},
   "outputs": [],
   "source": [
    "from pycarol.auth.PwdAuth import PwdAuth\n",
    "from pycarol.carol import Carol\n",
    "\n",
    "carol = Carol(domain=TENANT_NAME, app_name=APP_NAME,\n",
    "              auth=PwdAuth(USERNAME, PASSWORD))"
   ]
  },
  {
   "cell_type": "markdown",
   "metadata": {},
   "source": [
    "You can get the token to use in swagger using:"
   ]
  },
  {
   "cell_type": "code",
   "execution_count": 9,
   "metadata": {},
   "outputs": [
    {
     "name": "stdout",
     "output_type": "stream",
     "text": [
      "e3c37b3014c611e999f342010a801006\n"
     ]
    }
   ],
   "source": [
    "print(carol.auth._token.access_token)"
   ]
  },
  {
   "cell_type": "markdown",
   "metadata": {},
   "source": [
    "This is the email + password token, one could also do the login using API token, the advantage of this token is that it does not expire.\n",
    "\n",
    "First let us create a new API token:"
   ]
  },
  {
   "cell_type": "code",
   "execution_count": 10,
   "metadata": {},
   "outputs": [
    {
     "name": "stdout",
     "output_type": "stream",
     "text": [
      "This is a API key 4778894014c711e999f342010a801006\n",
      "This is the connector Id f9953f6645f449baaccd16ab462f9b64\n"
     ]
    }
   ],
   "source": [
    "api_key = carol.issue_api_key()\n",
    "X_Auth_Key =  api_key['X-Auth-Key']\n",
    "X_Auth_ConnectorId = api_key['X-Auth-ConnectorId']\n",
    "print(f\"This is a API key {api_key['X-Auth-Key']}\")\n",
    "print(f\"This is the connector Id {api_key['X-Auth-ConnectorId']}\")"
   ]
  },
  {
   "cell_type": "markdown",
   "metadata": {},
   "source": [
    "OBS: Each time you issue an API key the previous one will be revoked automatically. "
   ]
  },
  {
   "cell_type": "markdown",
   "metadata": {},
   "source": [
    "Using API to create the Carol object. "
   ]
  },
  {
   "cell_type": "code",
   "execution_count": 13,
   "metadata": {},
   "outputs": [],
   "source": [
    "TENANT_NAME = 'pycarol'\n",
    "APP_NAME = 'my_app'\n",
    "X_Auth_Key =  api_key['X-Auth-Key']\n",
    "X_Auth_ConnectorId = api_key['X-Auth-ConnectorId']"
   ]
  },
  {
   "cell_type": "code",
   "execution_count": 15,
   "metadata": {},
   "outputs": [],
   "source": [
    "from pycarol.auth.ApiKeyAuth import ApiKeyAuth\n",
    "from pycarol.carol import Carol\n",
    "\n",
    "carol = Carol(domain=TENANT_NAME, \n",
    "              app_name=APP_NAME, \n",
    "              auth=ApiKeyAuth(api_key=X_Auth_Key),\n",
    "              connector_id=X_Auth_ConnectorId)"
   ]
  },
  {
   "cell_type": "markdown",
   "metadata": {},
   "source": [
    "To revoke an API token one can call:"
   ]
  },
  {
   "cell_type": "code",
   "execution_count": 16,
   "metadata": {},
   "outputs": [
    {
     "data": {
      "text/plain": [
       "{'success': True}"
      ]
     },
     "execution_count": 16,
     "metadata": {},
     "output_type": "execute_result"
    }
   ],
   "source": [
    "carol.api_key_revoke(connector_id=X_Auth_ConnectorId)"
   ]
  },
  {
   "cell_type": "markdown",
   "metadata": {},
   "source": [
    "IF we try to call any API now, it will retutn the error\n",
    "\n",
    "```\n",
    "{\"errorCode\":401,\"errorMessage\":\"API token or connectorId is invalid\",\"possibleResponsibleField\":\"Authorization, or X-Auth-Key and X-Auth-ConnectorId is invalid.\"}\n",
    "```"
   ]
  }
 ],
 "metadata": {
  "kernelspec": {
   "display_name": "Python 3",
   "language": "python",
   "name": "python3"
  },
  "language_info": {
   "codemirror_mode": {
    "name": "ipython",
    "version": 3
   },
   "file_extension": ".py",
   "mimetype": "text/x-python",
   "name": "python",
   "nbconvert_exporter": "python",
   "pygments_lexer": "ipython3",
   "version": "3.6.4"
  }
 },
 "nbformat": 4,
 "nbformat_minor": 1
}
